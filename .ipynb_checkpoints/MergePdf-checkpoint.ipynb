{
 "cells": [
  {
   "cell_type": "code",
   "execution_count": 1,
   "metadata": {},
   "outputs": [
    {
     "name": "stdout",
     "output_type": "stream",
     "text": [
      "Requirement already satisfied: PyPDF2 in c:\\users\\user\\anaconda3\\lib\\site-packages (1.26.0)\n"
     ]
    }
   ],
   "source": [
    "!pip install PyPDF2"
   ]
  },
  {
   "cell_type": "code",
   "execution_count": 2,
   "metadata": {},
   "outputs": [
    {
     "name": "stdout",
     "output_type": "stream",
     "text": [
      "Requirement already satisfied: docx2pdf in c:\\users\\user\\anaconda3\\lib\\site-packages (0.1.7)\n",
      "Requirement already satisfied: pywin32<228,>=227; sys_platform == \"win32\" in c:\\users\\user\\anaconda3\\lib\\site-packages (from docx2pdf) (227)\n",
      "Requirement already satisfied: tqdm<5.0.0,>=4.41.0 in c:\\users\\user\\anaconda3\\lib\\site-packages (from docx2pdf) (4.42.1)\n",
      "Requirement already satisfied: importlib_metadata<2.0.0,>=1.3.0; python_version < \"3.8\" in c:\\users\\user\\anaconda3\\lib\\site-packages (from docx2pdf) (1.5.0)\n",
      "Requirement already satisfied: zipp>=0.5 in c:\\users\\user\\anaconda3\\lib\\site-packages (from importlib_metadata<2.0.0,>=1.3.0; python_version < \"3.8\"->docx2pdf) (2.2.0)\n"
     ]
    }
   ],
   "source": [
    "!pip install docx2pdf"
   ]
  },
  {
   "cell_type": "code",
   "execution_count": 3,
   "metadata": {},
   "outputs": [
    {
     "name": "stdout",
     "output_type": "stream",
     "text": [
      "ワードファイルが入っているフォルダのパスをフルパスで入力してください。E:\\Onedrive\\物理教育資料(まとめる)\\セミナー物理2020\\01_Wordデータ\\02_セミナー物理基礎＋物理\\05_剛体にはたらく力\n"
     ]
    }
   ],
   "source": [
    "import PyPDF2\n",
    "import glob\n",
    "import os\n",
    "from docx2pdf import convert\n",
    "\n",
    "### まずは、ここでパスを指定します。\n",
    "\n",
    "# 変換する前のワードファイルがあるフォルダ\n",
    "input_dir = input(\"ワードファイルが入っているフォルダのパスをフルパスで入力してください。\")\n",
    "\n",
    "# 変換したPDFファイルを保存するフォルダ\n",
    "# デフォルトは input_dir + PDF\n",
    "output_dir = input_dir + \"/PDF\"\n",
    "os.mkdir(output_dir)\n",
    "\n",
    "# 変換したPDFを結合して、保存するファイル名\n",
    "output_file =  input_dir + \"/PDF/000.marge.pdf\"\n",
    "\n"
   ]
  },
  {
   "cell_type": "code",
   "execution_count": 4,
   "metadata": {},
   "outputs": [
    {
     "data": {
      "application/vnd.jupyter.widget-view+json": {
       "model_id": "fa9fcd67ebca44c69f754d3cd0ed9e15",
       "version_major": 2,
       "version_minor": 0
      },
      "text/plain": [
       "HBox(children=(FloatProgress(value=0.0, max=20.0), HTML(value='')))"
      ]
     },
     "metadata": {},
     "output_type": "display_data"
    },
    {
     "name": "stdout",
     "output_type": "stream",
     "text": [
      "\n",
      "PDF化が完了しました！\n"
     ]
    }
   ],
   "source": [
    "#このセルでは、input_dirのwordファイルを、全てpdfに変換します。\n",
    "\n",
    "\n",
    "\n",
    "\"\"\"\n",
    "use library: https://github.com/AlJohri/docx2pdf\n",
    "\"\"\"\n",
    "\n",
    "def convert_pdf(input_dir=\"output/\", output_dir=\"output_pdf/\"):\n",
    "    \"\"\"\n",
    "    docxファイルの保存されたフォルダを指定して、フォルダ格納データを全てpdfにして、指定フォルダに保存する\n",
    "    :param input_dir: dir_name, default:output/,  outputフォルダを利用\n",
    "    :param output_dir: dir_name, default:output_pdf/, output_pdfフォルダを利用\n",
    "    :return: output_pdfフォルダにoutputフォルダのpdfが全て保存される\n",
    "    \"\"\"\n",
    "    convert(input_dir, output_dir)\n",
    "\n",
    "    \n",
    "convert_pdf(input_dir, output_dir)\n",
    "\n",
    "print(\"PDF化が完了しました！\")"
   ]
  },
  {
   "cell_type": "code",
   "execution_count": 5,
   "metadata": {},
   "outputs": [
    {
     "name": "stdout",
     "output_type": "stream",
     "text": [
      "PDFの結合が完了しました！\n"
     ]
    }
   ],
   "source": [
    "#このセルでは、output_dirのpdfファイルを、全てoutput_fileに変換します。\n",
    "\n",
    "import PyPDF2\n",
    "import glob\n",
    "import os\n",
    "\n",
    "def merge_pdf_in_dir(dir_path, dst_path):\n",
    "    l = glob.glob(os.path.join(dir_path, '*.pdf'))\n",
    "    l.sort()\n",
    "\n",
    "    merger = PyPDF2.PdfFileMerger()\n",
    "    for p in l:\n",
    "        if not PyPDF2.PdfFileReader(p).isEncrypted:\n",
    "            merger.append(p)\n",
    "\n",
    "    merger.write(dst_path)\n",
    "    merger.close()\n",
    "\n",
    "    \n",
    "# インプットパスとアウトプットファイル名を指定する。\n",
    "#https://note.nkmk.me/python-pypdf2-pdf-merge-insert-split/\n",
    "merge_pdf_in_dir(output_dir, output_file)\n",
    "\n",
    "print(\"PDFの結合が完了しました！\")"
   ]
  },
  {
   "cell_type": "code",
   "execution_count": null,
   "metadata": {},
   "outputs": [],
   "source": []
  }
 ],
 "metadata": {
  "kernelspec": {
   "display_name": "Python 3",
   "language": "python",
   "name": "python3"
  },
  "language_info": {
   "codemirror_mode": {
    "name": "ipython",
    "version": 3
   },
   "file_extension": ".py",
   "mimetype": "text/x-python",
   "name": "python",
   "nbconvert_exporter": "python",
   "pygments_lexer": "ipython3",
   "version": "3.7.6"
  }
 },
 "nbformat": 4,
 "nbformat_minor": 4
}
