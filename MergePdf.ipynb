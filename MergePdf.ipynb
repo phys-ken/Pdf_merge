{
 "cells": [
  {
   "cell_type": "code",
   "execution_count": 14,
   "metadata": {},
   "outputs": [
    {
<<<<<<< Updated upstream
     "output_type": "execute_result",
     "data": {
      "text/plain": [
       "'3.9.2 (default, Feb 19 2021, 17:43:04) \\n[Clang 12.0.0 (clang-1200.0.32.29)]'"
      ]
     },
     "metadata": {},
     "execution_count": 1
    }
   ],
   "source": [
    "import sys\n",
    "sys.version"
   ]
  },
  {
   "cell_type": "code",
   "execution_count": 5,
   "metadata": {},
   "outputs": [
    {
     "output_type": "stream",
     "name": "stdout",
     "text": [
      "Requirement already satisfied: pip in /usr/local/lib/python3.9/site-packages (21.1.1)\n",
      "Collecting pip\n",
      "  Downloading pip-21.1.2-py3-none-any.whl (1.5 MB)\n",
      "\u001b[K     |████████████████████████████████| 1.5 MB 3.1 MB/s \n",
      "\u001b[?25hInstalling collected packages: pip\n",
      "  Attempting uninstall: pip\n",
      "    Found existing installation: pip 21.1.1\n",
      "    Uninstalling pip-21.1.1:\n",
      "      Successfully uninstalled pip-21.1.1\n",
      "Successfully installed pip-21.1.2\n"
=======
     "output_type": "stream",
     "name": "stderr",
     "text": [
      "'DOSKEY' �́A�����R�}���h�܂��͊O���R�}���h�A\n����\\�ȃv���O�����܂��̓o�b�` �t�@�C���Ƃ��ĔF������Ă��܂���B\n'pip' �́A�����R�}���h�܂��͊O���R�}���h�A\n����\\�ȃv���O�����܂��̓o�b�` �t�@�C���Ƃ��ĔF������Ă��܂���B\n"
>>>>>>> Stashed changes
     ]
    }
   ],
   "source": [
    "!/usr/local/opt/python@3.9/bin/python3.9 -m pip install --upgrade pip"
   ]
  },
  {
   "cell_type": "code",
<<<<<<< Updated upstream
   "execution_count": 6,
=======
   "execution_count": 11,
>>>>>>> Stashed changes
   "metadata": {},
   "outputs": [
    {
     "output_type": "stream",
<<<<<<< Updated upstream
     "name": "stdout",
     "text": [
      "Requirement already satisfied: PyPDF2 in /usr/local/lib/python3.9/site-packages (1.26.0)\n"
=======
     "name": "stderr",
     "text": [
      "'DOSKEY' �́A�����R�}���h�܂��͊O���R�}���h�A\n����\\�ȃv���O�����܂��̓o�b�` �t�@�C���Ƃ��ĔF������Ă��܂���B\n'pip' �́A�����R�}���h�܂��͊O���R�}���h�A\n����\\�ȃv���O�����܂��̓o�b�` �t�@�C���Ƃ��ĔF������Ă��܂���B\n"
>>>>>>> Stashed changes
     ]
    }
   ],
   "source": [
    "!pip3.9 install PyPDF2"
   ]
  },
  {
   "cell_type": "code",
<<<<<<< Updated upstream
   "execution_count": 7,
   "metadata": {},
   "outputs": [
    {
     "output_type": "stream",
     "name": "stdout",
     "text": [
      "Requirement already satisfied: docx2pdf in /usr/local/lib/python3.9/site-packages (0.1.7)\n",
      "Requirement already satisfied: appscript<2.0.0,>=1.1.0 in /usr/local/lib/python3.9/site-packages (from docx2pdf) (1.1.2)\n",
      "Requirement already satisfied: tqdm<5.0.0,>=4.41.0 in /usr/local/lib/python3.9/site-packages (from docx2pdf) (4.60.0)\n"
=======
   "execution_count": 9,
   "metadata": {},
   "outputs": [
    {
     "output_type": "error",
     "ename": "ModuleNotFoundError",
     "evalue": "No module named 'docx2pdf'",
     "traceback": [
      "\u001b[1;31m---------------------------------------------------------------------------\u001b[0m",
      "\u001b[1;31mModuleNotFoundError\u001b[0m                       Traceback (most recent call last)",
      "\u001b[1;32m<ipython-input-9-37184ab88658>\u001b[0m in \u001b[0;36m<module>\u001b[1;34m\u001b[0m\n\u001b[0;32m      2\u001b[0m \u001b[1;32mimport\u001b[0m \u001b[0mglob\u001b[0m\u001b[1;33m\u001b[0m\u001b[1;33m\u001b[0m\u001b[0m\n\u001b[0;32m      3\u001b[0m \u001b[1;32mimport\u001b[0m \u001b[0mos\u001b[0m\u001b[1;33m\u001b[0m\u001b[1;33m\u001b[0m\u001b[0m\n\u001b[1;32m----> 4\u001b[1;33m \u001b[1;32mfrom\u001b[0m \u001b[0mdocx2pdf\u001b[0m \u001b[1;32mimport\u001b[0m \u001b[0mconvert\u001b[0m\u001b[1;33m\u001b[0m\u001b[1;33m\u001b[0m\u001b[0m\n\u001b[0m\u001b[0;32m      5\u001b[0m \u001b[1;33m\u001b[0m\u001b[0m\n\u001b[0;32m      6\u001b[0m \u001b[1;31m### まずは、ここでパスを指定します。\u001b[0m\u001b[1;33m\u001b[0m\u001b[1;33m\u001b[0m\u001b[1;33m\u001b[0m\u001b[0m\n",
      "\u001b[1;31mModuleNotFoundError\u001b[0m: No module named 'docx2pdf'"
>>>>>>> Stashed changes
     ]
    }
   ],
   "source": [
    "!pip3.9 install docx2pdf"
   ]
  },
  {
   "cell_type": "code",
   "execution_count": 8,
   "metadata": {},
   "outputs": [],
   "source": [
    "import PyPDF2\n",
    "import glob\n",
    "import os\n",
    "from docx2pdf import convert\n",
    "\n",
    "### まずは、ここでパスを指定します。\n",
    "\n",
    "# 変換する前のワードファイルがあるフォルダ\n",
    "input_dir = input(\"ワードファイルが入っているフォルダのパスをフルパスで入力してください。\")\n",
    "\n",
    "# 変換したPDFファイルを保存するフォルダ\n",
    "# デフォルトは input_dir + PDF\n",
    "output_dir = input_dir + \"/PDF\"\n",
    "os.mkdir(output_dir)\n",
    "\n",
    "# 変換したPDFを結合して、保存するファイル名\n",
    "output_file =  input_dir + \"/PDF/000.marge.pdf\"\n",
    "\n"
   ]
  },
  {
   "cell_type": "code",
   "execution_count": 9,
   "metadata": {},
   "outputs": [
    {
     "output_type": "stream",
     "name": "stderr",
     "text": [
      "100%|██████████| 8/8 [00:28<00:00,  2.29s/it]PDF化が完了しました！\n"
     ]
    }
   ],
   "source": [
    "#このセルでは、input_dirのwordファイルを、全てpdfに変換します。\n",
    "\n",
    "\n",
    "\n",
    "\"\"\"\n",
    "use library: https://github.com/AlJohri/docx2pdf\n",
    "\"\"\"\n",
    "\n",
    "def convert_pdf(input_dir=\"output/\", output_dir=\"output_pdf/\"):\n",
    "    \"\"\"\n",
    "    docxファイルの保存されたフォルダを指定して、フォルダ格納データを全てpdfにして、指定フォルダに保存する\n",
    "    :param input_dir: dir_name, default:output/,  outputフォルダを利用\n",
    "    :param output_dir: dir_name, default:output_pdf/, output_pdfフォルダを利用\n",
    "    :return: output_pdfフォルダにoutputフォルダのpdfが全て保存される\n",
    "    \"\"\"\n",
    "    convert(input_dir, output_dir)\n",
    "\n",
    "    \n",
    "convert_pdf(input_dir, output_dir)\n",
    "\n",
    "print(\"PDF化が完了しました！\")"
   ]
  },
  {
   "cell_type": "code",
   "execution_count": 10,
   "metadata": {},
   "outputs": [
    {
     "output_type": "stream",
     "name": "stderr",
     "text": [
      "100%|██████████| 8/8 [00:46<00:00,  5.87s/it]\n",
      "PDFの結合が完了しました！\n"
     ]
    }
   ],
   "source": [
    "#このセルでは、output_dirのpdfファイルを、全てoutput_fileに結合します。\n",
    "\n",
    "import PyPDF2\n",
    "import glob\n",
    "import os\n",
    "\n",
    "def merge_pdf_in_dir(dir_path, dst_path):\n",
    "    l = glob.glob(os.path.join(dir_path, '*.pdf'))\n",
    "    l.sort()\n",
    "\n",
    "    merger = PyPDF2.PdfFileMerger()\n",
    "    for p in l:\n",
    "        if not PyPDF2.PdfFileReader(p).isEncrypted:\n",
    "            merger.append(p)\n",
    "\n",
    "    merger.write(dst_path)\n",
    "    merger.close()\n",
    "\n",
    "    \n",
    "# インプットパスとアウトプットファイル名を指定する。\n",
    "#https://note.nkmk.me/python-pypdf2-pdf-merge-insert-split/\n",
    "merge_pdf_in_dir(output_dir, output_file)\n",
    "\n",
    "print(\"PDFの結合が完了しました！\")"
   ]
  },
  {
   "cell_type": "code",
   "execution_count": null,
   "metadata": {},
   "outputs": [],
   "source": []
  }
 ],
 "metadata": {
  "kernelspec": {
<<<<<<< Updated upstream
   "name": "python392jvsc74a57bd0aee8b7b246df8f9039afb4144a1f6fd8d2ca17a180786b69acc140d282b71a49",
   "display_name": "Python 3.9.2 64-bit"
=======
   "name": "python385jvsc74a57bd06d46af94c2bbce495f1e668725902fa517c90b1782bcfe2fce0dd9868df553d3",
   "display_name": "Python 3.8.5 64-bit ('base': conda)"
>>>>>>> Stashed changes
  },
  "language_info": {
   "codemirror_mode": {
    "name": "ipython",
    "version": 3
   },
   "file_extension": ".py",
   "mimetype": "text/x-python",
   "name": "python",
   "nbconvert_exporter": "python",
   "pygments_lexer": "ipython3",
<<<<<<< Updated upstream
   "version": "3.9.2"
  },
  "metadata": {
   "interpreter": {
    "hash": "aee8b7b246df8f9039afb4144a1f6fd8d2ca17a180786b69acc140d282b71a49"
   }
=======
   "version": "3.8.5"
>>>>>>> Stashed changes
  }
 },
 "nbformat": 4,
 "nbformat_minor": 4
}