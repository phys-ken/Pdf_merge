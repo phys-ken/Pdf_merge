{
 "cells": [
  {
   "cell_type": "code",
   "execution_count": 2,
   "metadata": {},
   "outputs": [
    {
     "name": "stdout",
     "output_type": "stream",
     "text": [
      "Collecting PyPDF2\n",
      "  Downloading PyPDF2-1.26.0.tar.gz (77 kB)\n",
      "\u001b[K     |████████████████████████████████| 77 kB 1.5 MB/s eta 0:00:01\n",
      "\u001b[?25hBuilding wheels for collected packages: PyPDF2\n",
      "  Building wheel for PyPDF2 (setup.py) ... \u001b[?25ldone\n",
      "\u001b[?25h  Created wheel for PyPDF2: filename=PyPDF2-1.26.0-py3-none-any.whl size=61085 sha256=213b6e39bcdeab27c740c0d422024af169458bdb6d202f4bdcc465bacfce8bcc\n",
      "  Stored in directory: /Users/nagakurakenya/Library/Caches/pip/wheels/b1/1a/8f/a4c34be976825a2f7948d0fa40907598d69834f8ab5889de11\n",
      "Successfully built PyPDF2\n",
      "Installing collected packages: PyPDF2\n",
      "Successfully installed PyPDF2-1.26.0\n"
     ]
    }
   ],
   "source": [
    "!pip install PyPDF2"
   ]
  },
  {
   "cell_type": "code",
   "execution_count": 1,
   "metadata": {},
   "outputs": [
    {
     "name": "stdout",
     "output_type": "stream",
     "text": [
      "Collecting docx2pdf\n",
      "  Downloading docx2pdf-0.1.7-py3-none-any.whl (6.6 kB)\n",
      "Requirement already satisfied: appscript<2.0.0,>=1.1.0; sys_platform == \"darwin\" in /opt/anaconda3/lib/python3.8/site-packages (from docx2pdf) (1.1.1)\n",
      "Requirement already satisfied: tqdm<5.0.0,>=4.41.0 in /opt/anaconda3/lib/python3.8/site-packages (from docx2pdf) (4.50.2)\n",
      "Installing collected packages: docx2pdf\n",
      "Successfully installed docx2pdf-0.1.7\n"
     ]
    }
   ],
   "source": [
    "!pip install docx2pdf"
   ]
  },
  {
   "cell_type": "code",
   "execution_count": 12,
   "metadata": {},
   "outputs": [],
   "source": [
    "### まずは、ここでパスを指定します。\n",
    "\n",
    "# 変換する前のワードファイルがあるフォルダ\n",
    "input_dir = \"\"\n",
    "\n",
    "# 変換したPDFファイルを保存するフォルダ\n",
    "output_dir = \"\"\n",
    "\n",
    "# 変換したPDFを結合して、保存するファイル名\n",
    "output_file = \"\""
   ]
  },
  {
   "cell_type": "code",
   "execution_count": 9,
   "metadata": {},
   "outputs": [
    {
     "data": {
      "application/vnd.jupyter.widget-view+json": {
       "model_id": "113c4bb1968e4b79a68705097670f730",
       "version_major": 2,
       "version_minor": 0
      },
      "text/plain": [
       "HBox(children=(HTML(value=''), FloatProgress(value=0.0, max=28.0), HTML(value='')))"
      ]
     },
     "metadata": {},
     "output_type": "display_data"
    }
   ],
   "source": [
    "#このセルでは、input_dirのwordファイルを、全てpdfに変換します。\n",
    "\n",
    "from docx2pdf import convert\n",
    "\n",
    "\"\"\"\n",
    "use library: https://github.com/AlJohri/docx2pdf\n",
    "\"\"\"\n",
    "\n",
    "def convert_pdf(input_dir=\"output/\", output_dir=\"output_pdf/\"):\n",
    "    \"\"\"\n",
    "    docxファイルの保存されたフォルダを指定して、フォルダ格納データを全てpdfにして、指定フォルダに保存する\n",
    "    :param input_dir: dir_name, default:output/,  outputフォルダを利用\n",
    "    :param output_dir: dir_name, default:output_pdf/, output_pdfフォルダを利用\n",
    "    :return: output_pdfフォルダにoutputフォルダのpdfが全て保存される\n",
    "    \"\"\"\n",
    "    convert(input_dir, output_dir)\n",
    "\n",
    "    \n",
    "convert_pdf(input_dir, output_dir)"
   ]
  },
  {
   "cell_type": "code",
   "execution_count": 11,
   "metadata": {},
   "outputs": [
    {
     "name": "stdout",
     "output_type": "stream",
     "text": [
      "\n",
      "\n",
      "\n"
     ]
    }
   ],
   "source": [
    "#このセルでは、output_dirのpdfファイルを、全てoutput_fileに変換します。\n",
    "\n",
    "import PyPDF2\n",
    "import glob\n",
    "import os\n",
    "\n",
    "def merge_pdf_in_dir(dir_path, dst_path):\n",
    "    l = glob.glob(os.path.join(dir_path, '*.pdf'))\n",
    "    l.sort()\n",
    "\n",
    "    merger = PyPDF2.PdfFileMerger()\n",
    "    for p in l:\n",
    "        if not PyPDF2.PdfFileReader(p).isEncrypted:\n",
    "            merger.append(p)\n",
    "\n",
    "    merger.write(dst_path)\n",
    "    merger.close()\n",
    "\n",
    "    \n",
    "# インプットパスとアウトプットファイル名を指定する。\n",
    "#https://note.nkmk.me/python-pypdf2-pdf-merge-insert-split/\n",
    "merge_pdf_in_dir(output_dir, output_file)\n",
    "\n",
    "print(\"作業が完了しました\")"
   ]
  },
  {
   "cell_type": "code",
   "execution_count": null,
   "metadata": {},
   "outputs": [],
   "source": []
  }
 ],
 "metadata": {
  "kernelspec": {
   "display_name": "Python 3",
   "language": "python",
   "name": "python3"
  },
  "language_info": {
   "codemirror_mode": {
    "name": "ipython",
    "version": 3
   },
   "file_extension": ".py",
   "mimetype": "text/x-python",
   "name": "python",
   "nbconvert_exporter": "python",
   "pygments_lexer": "ipython3",
   "version": "3.8.2"
  }
 },
 "nbformat": 4,
 "nbformat_minor": 4
}
